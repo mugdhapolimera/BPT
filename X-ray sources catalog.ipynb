{
 "cells": [
  {
   "cell_type": "code",
   "execution_count": 23,
   "metadata": {
    "collapsed": true
   },
   "outputs": [],
   "source": [
    "import pandas as pd\n",
    "import numpy as np\n",
    "import os\n",
    "from astropy import units as u\n",
    "from astropy.coordinates import SkyCoord\n",
    "from astropy.table import Table\n",
    "from matplotlib import pyplot as plt\n",
    "os.chdir('F:\\mugdhapolimera\\Documents\\UNC\\Research\\Data\\GALEX')"
   ]
  },
  {
   "cell_type": "code",
   "execution_count": 3,
   "metadata": {
    "collapsed": false
   },
   "outputs": [],
   "source": [
    "#GALEX-SDSS-WISE Legacy Catalog; Medium depth; 49% of SDSS \n",
    "#pages.iu.edu/~salims/gswlc\n",
    "galex_file = np.loadtxt('GSWLC-M1.dat')\n",
    "headers = ['objid', 'glxid', 'plate', 'mjd', 'fiberid', 'ra', 'dec', 'z', 'chisq', 'logmstar', 'logmstar_err', 'logsfr_sed',\n",
    "          'logsfr_sed_err', 'a_fuv', 'a_fuv_err', 'a_b', 'a_b_err', 'a_v', 'a_v_err', 'flag_sed', 'uv_survey', 'logsfr_wise',  \n",
    "           'flag_wise', 'logsfr_unwise_err', 'flag_unwise', 'flag_mgs']\n",
    "galex = pd.DataFrame(galex_file, columns = headers)\n",
    "#3XMM-Newton DR6\n",
    "xmm = pd.read_csv('3XMM_DR6cat_slim_v1.0.csv')"
   ]
  },
  {
   "cell_type": "code",
   "execution_count": 18,
   "metadata": {
    "collapsed": false
   },
   "outputs": [
    {
     "name": "stdout",
     "output_type": "stream",
     "text": [
      "361328 468440\n",
      "0           0.000395\n",
      "1           0.001138\n",
      "2           0.001307\n",
      "3           0.001344\n",
      "4           0.003264\n",
      "5           0.004930\n",
      "6           0.005699\n",
      "7           0.006724\n",
      "8           0.006999\n",
      "9           0.007642\n",
      "10          0.008809\n",
      "11          0.008875\n",
      "12          0.009181\n",
      "13          0.009460\n",
      "14          0.009972\n",
      "15          0.010054\n",
      "16          0.010373\n",
      "17          0.011219\n",
      "18          0.011938\n",
      "19          0.012095\n",
      "20          0.012591\n",
      "21          0.012660\n",
      "22          0.013401\n",
      "23          0.013433\n",
      "24          0.013503\n",
      "25          0.014083\n",
      "26          0.014299\n",
      "27          0.015342\n",
      "28          0.015539\n",
      "29          0.015587\n",
      "             ...    \n",
      "468410    359.982749\n",
      "468411    359.982962\n",
      "468412    359.983572\n",
      "468413    359.983614\n",
      "468414    359.983937\n",
      "468415    359.984105\n",
      "468416    359.984146\n",
      "468417    359.984236\n",
      "468418    359.984381\n",
      "468419    359.984982\n",
      "468420    359.985038\n",
      "468421    359.986020\n",
      "468422    359.986933\n",
      "468423    359.988404\n",
      "468424    359.989857\n",
      "468425    359.990836\n",
      "468426    359.992482\n",
      "468427    359.992587\n",
      "468428    359.992834\n",
      "468429    359.993502\n",
      "468430    359.993852\n",
      "468431    359.995184\n",
      "468432    359.996509\n",
      "468433    359.996908\n",
      "468434    359.997223\n",
      "468435    359.997276\n",
      "468436    359.997407\n",
      "468437    359.998282\n",
      "468438    359.998418\n",
      "468439    359.999418\n",
      "Name: sc_ra, Length: 468440, dtype: float64\n"
     ]
    }
   ],
   "source": [
    "print len(galex), len(xmm)\n",
    "print xmm.sc_ra\n",
    "#print [x for x in galex.index.values if galex.ra.loc[x] in list(xmm.sc_ra)]"
   ]
  },
  {
   "cell_type": "code",
   "execution_count": 21,
   "metadata": {
    "collapsed": false
   },
   "outputs": [],
   "source": [
    "#For all sources in XMM, find GSWLC counterparts\n",
    "coo_xmm = SkyCoord(np.array(xmm.sc_ra)*u.deg, np.array(xmm.sc_dec)*u.deg)\n",
    "coo_galex = SkyCoord(np.array(galex['ra'])*u.deg, np.array(galex['dec'])*u.deg)\n",
    "\n",
    "idx_xmm, d2d_xmm, d3d_xmm = coo_galex.match_to_catalog_sky(coo_xmm)"
   ]
  },
  {
   "cell_type": "code",
   "execution_count": 50,
   "metadata": {
    "collapsed": false
   },
   "outputs": [
    {
     "data": {
      "image/png": "[encoded data removed]",
      "text/plain": [
       "<matplotlib.figure.Figure at 0xdecd160>"
      ]
     },
     "metadata": {},
     "output_type": "display_data"
    }
   ],
   "source": [
    "%matplotlib inline \n",
    "plt.hist(d2d_xmm.arcsec, histtype='step',bins = np.arange(0,20000),  range = (0,80))\n",
    "plt.xlim(0,8)\n",
    "plt.xlabel('separation [arcsec]')\n",
    "plt.tight_layout()"
   ]
  },
  {
   "cell_type": "code",
   "execution_count": null,
   "metadata": {
    "collapsed": false
   },
   "outputs": [],
   "source": [
    "idx_xmm, idx_galex, d2d_xmm, d3d_xmm = coo_galex.search_around_sky(coo_xmm, 7*u.deg)"
   ]
  },
  {
   "cell_type": "code",
   "execution_count": 42,
   "metadata": {
    "collapsed": false
   },
   "outputs": [
    {
     "data": {
      "text/plain": [
       "361328"
      ]
     },
     "execution_count": 42,
     "metadata": {},
     "output_type": "execute_result"
    }
   ],
   "source": [
    "print idx_xmm"
   ]
  },
  {
   "cell_type": "code",
   "execution_count": null,
   "metadata": {
    "collapsed": true
   },
   "outputs": [],
   "source": []
  }
 ],
 "metadata": {
  "kernelspec": {
   "display_name": "Python 2",
   "language": "python",
   "name": "python2"
  },
  "language_info": {
   "codemirror_mode": {
    "name": "ipython",
    "version": 2
   },
   "file_extension": ".py",
   "mimetype": "text/x-python",
   "name": "python",
   "nbconvert_exporter": "python",
   "pygments_lexer": "ipython2",
   "version": "2.7.13"
  }
 },
 "nbformat": 4,
 "nbformat_minor": 0
}
