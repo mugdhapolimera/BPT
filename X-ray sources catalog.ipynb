{
 "cells": [
  {
   "cell_type": "code",
   "execution_count": 12,
   "metadata": {
    "collapsed": true
   },
   "outputs": [],
   "source": [
    "import pandas as pd\n",
    "import numpy as np\n",
    "import os\n",
    "\n",
    "os.chdir('F:\\mugdhapolimera\\Documents\\UNC\\Research\\Data\\GALEX')"
   ]
  },
  {
   "cell_type": "code",
   "execution_count": 17,
   "metadata": {
    "collapsed": false
   },
   "outputs": [],
   "source": [
    "#GALEX-SDSS-WISE Legacy Catalog; Medium depth; 49% of SDSS \n",
    "#pages.iu.edu/~salims/gswlc\n",
    "galex_file = np.loadtxt('GSWLC-M1.dat')\n",
    "headers = ['objid', 'glxid', 'plate', 'mjd', 'fiberid', 'ra', 'dec', 'z', 'chisq', 'logmstar', 'logmstar_err', 'logsfr_sed',\n",
    "          'logsfr_sed_err', 'a_fuv', 'a_fuv_err', 'a_b', 'a_b_err', 'a_v', 'a_v_err', 'flag_sed', 'uv_survey', 'logsfr_wise',  \n",
    "           'flag_wise', 'logsfr_unwise_err', 'flag_unwise', 'flag_mgs']\n",
    "galex = pd.DataFrame(galex_file, columns = headers)\n",
    "#3XMM-Newton DR6\n",
    "xmm = pd.read_csv('3XMM_DR6cat_slim_v1.0.csv')"
   ]
  },
  {
   "cell_type": "code",
   "execution_count": 22,
   "metadata": {
    "collapsed": false
   },
   "outputs": [
    {
     "name": "stdout",
     "output_type": "stream",
     "text": [
      "0          57.442293\n",
      "1          57.452672\n",
      "2          57.490415\n",
      "3          57.508919\n",
      "4          57.507462\n",
      "5          57.944208\n",
      "6          58.000210\n",
      "7          58.016656\n",
      "8          58.063004\n",
      "9          58.023167\n",
      "10         58.153249\n",
      "11         58.386764\n",
      "12         46.109388\n",
      "13         56.234169\n",
      "14         56.349510\n",
      "15         56.781395\n",
      "16         56.880333\n",
      "17         56.956457\n",
      "18         56.992505\n",
      "19         57.180080\n",
      "20         57.248390\n",
      "21         57.264269\n",
      "22         57.556324\n",
      "23         57.674722\n",
      "24         58.387102\n",
      "25         58.436434\n",
      "26        244.413420\n",
      "27        244.563040\n",
      "28        183.353440\n",
      "29        189.455840\n",
      "             ...    \n",
      "361298    330.240710\n",
      "361299    331.636780\n",
      "361300    331.908530\n",
      "361301    330.489730\n",
      "361302    328.076590\n",
      "361303    328.589300\n",
      "361304    331.909420\n",
      "361305    332.157440\n",
      "361306    332.226380\n",
      "361307    330.700340\n",
      "361308    338.708290\n",
      "361309    331.759890\n",
      "361310    327.910750\n",
      "361311    328.232970\n",
      "361312    327.538840\n",
      "361313    330.563440\n",
      "361314    330.595420\n",
      "361315    327.929060\n",
      "361316    328.345630\n",
      "361317    338.745220\n",
      "361318    328.193650\n",
      "361319    327.711800\n",
      "361320    328.128890\n",
      "361321    332.390290\n",
      "361322    328.214810\n",
      "361323    327.980640\n",
      "361324    341.228030\n",
      "361325     27.967929\n",
      "361326    331.938290\n",
      "361327    327.642630\n",
      "Name: ra, Length: 361328, dtype: float64\n"
     ]
    }
   ],
   "source": [
    "print galex.ra "
   ]
  },
  {
   "cell_type": "code",
   "execution_count": null,
   "metadata": {
    "collapsed": true
   },
   "outputs": [],
   "source": [
    "#For all sources in XMM, find GSWLC counterparts\n",
    "ra = xmm.sc_ra\n",
    "dec = xmm.sc_dec\n",
    "\n",
    "for x in range(len(galex)):\n",
    "    if galex.ra"
   ]
  }
 ],
 "metadata": {
  "kernelspec": {
   "display_name": "Python 2",
   "language": "python",
   "name": "python2"
  },
  "language_info": {
   "codemirror_mode": {
    "name": "ipython",
    "version": 2
   },
   "file_extension": ".py",
   "mimetype": "text/x-python",
   "name": "python",
   "nbconvert_exporter": "python",
   "pygments_lexer": "ipython2",
   "version": "2.7.13"
  }
 },
 "nbformat": 4,
 "nbformat_minor": 0
}
